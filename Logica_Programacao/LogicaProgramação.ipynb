{
  "cells": [
    {
      "cell_type": "markdown",
      "metadata": {
        "id": "view-in-github",
        "colab_type": "text"
      },
      "source": [
        "<a href=\"https://colab.research.google.com/github/raulmeirass/Ciencia-de-Dados/blob/main/LogicaPrograma%C3%A7%C3%A3o.ipynb\" target=\"_parent\"><img src=\"https://colab.research.google.com/assets/colab-badge.svg\" alt=\"Open In Colab\"/></a>"
      ]
    },
    {
      "cell_type": "markdown",
      "source": [
        "#Função\n"
      ],
      "metadata": {
        "id": "t5jpOz5pD1Ub"
      }
    },
    {
      "cell_type": "code",
      "execution_count": null,
      "metadata": {
        "id": "_Y0k3LCV4r2V"
      },
      "outputs": [],
      "source": [
        "def saudacao():\n",
        "  nome = input('Qual é o seu nome? ')\n",
        "  print(f'Olá {nome}')"
      ]
    },
    {
      "cell_type": "markdown",
      "metadata": {
        "id": "zv6zewPy4wi1"
      },
      "source": []
    },
    {
      "cell_type": "code",
      "source": [
        "saudacao()"
      ],
      "metadata": {
        "colab": {
          "base_uri": "https://localhost:8080/"
        },
        "id": "5jGtF-NuDsaS",
        "outputId": "9aa97ef9-f3ac-41fb-a855-17f525c824b0"
      },
      "execution_count": null,
      "outputs": [
        {
          "output_type": "stream",
          "name": "stdout",
          "text": [
            "Qual é o seu nome? RAUL\n",
            "Olá RAUL\n"
          ]
        }
      ]
    },
    {
      "cell_type": "code",
      "source": [
        "def nome_completo():\n",
        " primeiro_nome = input('Qual seu primeiro nome? ')\n",
        " sobrenome = input('Qual seu sobrenome? ')\n",
        " nome_inteiro = primeiro_nome + ' ' + sobrenome\n",
        " print(nome_inteiro)\n",
        "\n",
        "nome_completo()\n"
      ],
      "metadata": {
        "colab": {
          "base_uri": "https://localhost:8080/"
        },
        "id": "J8AcDpDWDs0y",
        "outputId": "7eb24aa0-d8dc-4727-ab35-4e5fd4d318f2"
      },
      "execution_count": null,
      "outputs": [
        {
          "output_type": "stream",
          "name": "stdout",
          "text": [
            "Qual seu primeiro nome? Raul\n",
            "Qual seu sobrenome? Meira\n",
            "Raul Meira\n"
          ]
        }
      ]
    },
    {
      "cell_type": "code",
      "source": [],
      "metadata": {
        "id": "tOKwctTLDwm8"
      },
      "execution_count": null,
      "outputs": []
    },
    {
      "cell_type": "markdown",
      "source": [
        "#Função com Parametro"
      ],
      "metadata": {
        "id": "58qnQEPNEE41"
      }
    },
    {
      "cell_type": "code",
      "source": [
        "def verifica_se_pode_dirigir(idade):\n",
        "  if idade >= 18:\n",
        "    print('Tem permissão para dirigir')\n",
        "  else:\n",
        "    print('Não tem permissão para dirigir')"
      ],
      "metadata": {
        "id": "mIpuuhgOD2_Y"
      },
      "execution_count": null,
      "outputs": []
    },
    {
      "cell_type": "code",
      "source": [
        "idade = 10\n",
        "verifica_se_pode_dirigir(idade)"
      ],
      "metadata": {
        "colab": {
          "base_uri": "https://localhost:8080/"
        },
        "id": "2XrAh7hDEHPe",
        "outputId": "fbcd459b-0694-45e2-c984-7498fff3c155"
      },
      "execution_count": null,
      "outputs": [
        {
          "output_type": "stream",
          "name": "stdout",
          "text": [
            "Não tem permissão para dirigir\n"
          ]
        }
      ]
    },
    {
      "cell_type": "code",
      "source": [
        "def verifica_se_pode_dirigir_sem_parametros():\n",
        "  idade = input('Qual sua idade? ')\n",
        "  idade = int(idade) #mudando o tipo\n",
        "  if idade >= 18:\n",
        "    print('Tem permissão para dirigir')\n",
        "  else:\n",
        "    print('Não tem permissão para dirigir')\n",
        "\n",
        "verifica_se_pode_dirigir_sem_parametros()"
      ],
      "metadata": {
        "colab": {
          "base_uri": "https://localhost:8080/"
        },
        "id": "gB40Q6ioEITX",
        "outputId": "7ac6b9bf-902e-453c-bd1c-1a5b8f693714"
      },
      "execution_count": null,
      "outputs": [
        {
          "output_type": "stream",
          "name": "stdout",
          "text": [
            "Qual sua idade? 13\n",
            "Não tem permissão para dirigir\n"
          ]
        }
      ]
    },
    {
      "cell_type": "markdown",
      "source": [
        "#Listas"
      ],
      "metadata": {
        "id": "6NxGZEk4Ew-m"
      }
    },
    {
      "cell_type": "code",
      "source": [
        "idades = [18, 22, 15, 50]"
      ],
      "metadata": {
        "id": "AkRcosQrEKZ7"
      },
      "execution_count": null,
      "outputs": []
    },
    {
      "cell_type": "code",
      "source": [
        "def verifica_se_pode_dirigir(idades):\n",
        "  for idade in idades:\n",
        "    if idade >= 18:\n",
        "      print(f'{idade} anos, Tem permissão')\n",
        "    else:\n",
        "      print(f'{idade} anos, Não tem permissão')\n",
        "\n",
        "verifica_se_pode_dirigir(idades)"
      ],
      "metadata": {
        "colab": {
          "base_uri": "https://localhost:8080/"
        },
        "id": "ilU27BGjEmH1",
        "outputId": "572627a0-b8f6-45fd-ae2a-44a25084ccc0"
      },
      "execution_count": null,
      "outputs": [
        {
          "output_type": "stream",
          "name": "stdout",
          "text": [
            "18 anos, Tem permissão\n",
            "22 anos, Tem permissão\n",
            "15 anos, Não tem permissão\n",
            "50 anos, Tem permissão\n"
          ]
        }
      ]
    },
    {
      "cell_type": "code",
      "source": [],
      "metadata": {
        "id": "V2aVS8xAE2t5"
      },
      "execution_count": null,
      "outputs": []
    },
    {
      "cell_type": "markdown",
      "source": [
        "#Booleano"
      ],
      "metadata": {
        "id": "ZBhn1rQZGrJ0"
      }
    },
    {
      "cell_type": "code",
      "source": [
        "permissoes = []\n",
        "idades = [20, 14, 40]"
      ],
      "metadata": {
        "id": "FcTDhzChGs36"
      },
      "execution_count": null,
      "outputs": []
    },
    {
      "cell_type": "code",
      "source": [
        "def verifica_se_pode_dirigir(idades, permissoes):\n",
        "    for idade in idades:\n",
        "      if idade >= 18:\n",
        "          permissoes.append(True)\n",
        "      else:\n",
        "          permissoes.append(False)\n",
        "verifica_se_pode_dirigir(idades, permissoes)"
      ],
      "metadata": {
        "id": "__G6HJnMGtpT"
      },
      "execution_count": null,
      "outputs": []
    },
    {
      "cell_type": "code",
      "source": [
        "for permissao in permissoes:\n",
        "  if permissao == True:\n",
        "    print('Tem permissão para dirigir')\n",
        "  else:\n",
        "    print('Não tem permissão para dirigir')"
      ],
      "metadata": {
        "colab": {
          "base_uri": "https://localhost:8080/"
        },
        "id": "vrjDSB4PGvbu",
        "outputId": "f43d342b-f300-4313-ee34-cda73956df03"
      },
      "execution_count": null,
      "outputs": [
        {
          "output_type": "stream",
          "name": "stdout",
          "text": [
            "Tem permissão para dirigir\n",
            "Não tem permissão para dirigir\n",
            "Tem permissão para dirigir\n"
          ]
        }
      ]
    },
    {
      "cell_type": "code",
      "source": [
        "permissoes"
      ],
      "metadata": {
        "colab": {
          "base_uri": "https://localhost:8080/"
        },
        "id": "RsqlWsQHG2Hf",
        "outputId": "2ae1c876-9ae5-4bd2-9633-15cec5968209"
      },
      "execution_count": null,
      "outputs": [
        {
          "output_type": "execute_result",
          "data": {
            "text/plain": [
              "[True, False, True]"
            ]
          },
          "metadata": {},
          "execution_count": 15
        }
      ]
    },
    {
      "cell_type": "markdown",
      "source": [
        "# Tipos numa Lista"
      ],
      "metadata": {
        "id": "MDRirAJkNTTs"
      }
    },
    {
      "cell_type": "code",
      "source": [
        "lista = ['Raul', 18, True, '18']"
      ],
      "metadata": {
        "id": "knyzwR5xNZhD"
      },
      "execution_count": null,
      "outputs": []
    },
    {
      "cell_type": "code",
      "source": [
        "for elemento in lista:\n",
        "  print(f'O elemento {elemento} é do tipo: ', type(elemento))"
      ],
      "metadata": {
        "colab": {
          "base_uri": "https://localhost:8080/"
        },
        "id": "X589ej5hNifC",
        "outputId": "30315bd0-3911-4569-9945-db0338903730"
      },
      "execution_count": null,
      "outputs": [
        {
          "metadata": {
            "tags": null
          },
          "name": "stdout",
          "output_type": "stream",
          "text": [
            "O elemento Raul é do tipo:  <class 'str'>\n",
            "O elemento 18 é do tipo:  <class 'int'>\n",
            "O elemento True é do tipo:  <class 'bool'>\n",
            "O elemento 18 é do tipo:  <class 'str'>\n"
          ]
        }
      ]
    },
    {
      "cell_type": "code",
      "source": [],
      "metadata": {
        "id": "6fSxUzrZNxLe"
      },
      "execution_count": null,
      "outputs": []
    },
    {
      "cell_type": "markdown",
      "source": [
        "# Imports"
      ],
      "metadata": {
        "id": "iBw5DBUAOKKy"
      }
    },
    {
      "cell_type": "code",
      "source": [
        "from random import randrange, seed"
      ],
      "metadata": {
        "id": "G5KEoYfZOM93"
      },
      "execution_count": null,
      "outputs": []
    },
    {
      "cell_type": "code",
      "source": [
        "#seed = configurar o número inicial e sempre obter os mesmos valores na sequência. manipular dados aleatorios\n",
        "seed(10)"
      ],
      "metadata": {
        "id": "fw_QtLUJTflV"
      },
      "execution_count": null,
      "outputs": []
    },
    {
      "cell_type": "code",
      "source": [
        "# range = randrange(0, 11)\n",
        "# notas_matematica = []\n",
        "# cont = 0;\n",
        "# while cont < 10:\n",
        "#   notas_matematica.append(range);\n",
        "#   cont += 1\n",
        "#   print (notas_matematica)"
      ],
      "metadata": {
        "id": "pictZSoYOQpt"
      },
      "execution_count": null,
      "outputs": []
    },
    {
      "cell_type": "code",
      "source": [
        "randrange(0, 11)"
      ],
      "metadata": {
        "colab": {
          "base_uri": "https://localhost:8080/"
        },
        "id": "yBRS-kpROpV-",
        "outputId": "2497bbce-cc5b-40b5-9e91-928c9697bfe4"
      },
      "execution_count": null,
      "outputs": [
        {
          "output_type": "execute_result",
          "data": {
            "text/plain": [
              "9"
            ]
          },
          "metadata": {},
          "execution_count": 22
        }
      ]
    },
    {
      "cell_type": "code",
      "source": [
        "notas_matematica = []\n",
        "\n",
        "for notas in range(8):\n",
        "    notas_matematica.append(randrange(0,11))\n",
        "notas_matematica\n"
      ],
      "metadata": {
        "colab": {
          "base_uri": "https://localhost:8080/"
        },
        "id": "dYsMvL1HOv5Y",
        "outputId": "caea9f8e-4629-45ca-d758-d391f65158b9"
      },
      "execution_count": null,
      "outputs": [
        {
          "output_type": "execute_result",
          "data": {
            "text/plain": [
              "[0, 6, 7, 9, 0, 3, 7, 7]"
            ]
          },
          "metadata": {},
          "execution_count": 23
        }
      ]
    },
    {
      "cell_type": "code",
      "source": [
        "len(notas_matematica)"
      ],
      "metadata": {
        "colab": {
          "base_uri": "https://localhost:8080/"
        },
        "id": "gBXXkGVyO-Re",
        "outputId": "38dd09df-7842-4d8b-af13-8a07cff02f85"
      },
      "execution_count": null,
      "outputs": [
        {
          "output_type": "execute_result",
          "data": {
            "text/plain": [
              "8"
            ]
          },
          "metadata": {},
          "execution_count": 8
        }
      ]
    },
    {
      "cell_type": "markdown",
      "source": [
        "# Graficos - Mat Plot Lib"
      ],
      "metadata": {
        "id": "2RDB_dXyUuVf"
      }
    },
    {
      "cell_type": "code",
      "source": [
        "import matplotlib.pyplot as plt\n"
      ],
      "metadata": {
        "id": "lP790kwJUx5T"
      },
      "execution_count": null,
      "outputs": []
    },
    {
      "cell_type": "code",
      "source": [
        "eixo_x = list(range(1,9)) #lista de sequencia de 8 carac\n",
        "eixo_y = notas_matematica\n",
        "plt.plot(eixo_x, eixo_y, marker='o', label='dados') #plotar grafico, marker = marcar os dados\n",
        "plt.title('notas de matematica') #titulo\n",
        "plt.xlabel('Provas') #legenda eixo x\n",
        "plt.ylabel('Notas') #legenda eixo y\n",
        "plt.legend() #para pegar o label do plt.plot\n",
        "plt.show() # tirar o titulo Text(0.5, 1.0, 'Notas de matemática')"
      ],
      "metadata": {
        "colab": {
          "base_uri": "https://localhost:8080/",
          "height": 295
        },
        "id": "5bexJCNtVA9U",
        "outputId": "f6015861-fe99-4712-f839-20efb56a11e8"
      },
      "execution_count": null,
      "outputs": [
        {
          "output_type": "display_data",
          "data": {
            "text/plain": [
              "<Figure size 432x288 with 1 Axes>"
            ],
            "image/png": "[encoded data removed]"
          },
          "metadata": {
            "needs_background": "light"
          }
        }
      ]
    },
    {
      "cell_type": "markdown",
      "source": [
        "# Exercicio matplotlib"
      ],
      "metadata": {
        "id": "ZE64G-jtXKDz"
      }
    },
    {
      "cell_type": "code",
      "source": [
        "import matplotlib.pyplot as plt\n",
        "\n",
        "notas_matematica = ['Matemática',8,7,6,6,7,7,8,10]\n",
        "notas_portugues = ['Português',9,9,9,8,5,6,8,5]\n",
        "notas_geografia = ['Geografia',10,10,6,7,7,7,8,7]\n",
        "\n",
        "notas = [notas_matematica, notas_portugues, notas_geografia]"
      ],
      "metadata": {
        "id": "UlaGJKjrXMsD"
      },
      "execution_count": null,
      "outputs": []
    },
    {
      "cell_type": "code",
      "source": [
        "notas"
      ],
      "metadata": {
        "colab": {
          "base_uri": "https://localhost:8080/"
        },
        "id": "bip1Lf6hXkBY",
        "outputId": "84cf35b3-c5d4-462b-c511-528f1a9afe63"
      },
      "execution_count": null,
      "outputs": [
        {
          "output_type": "execute_result",
          "data": {
            "text/plain": [
              "[['Matemática', 8, 7, 6, 6, 7, 7, 8, 10],\n",
              " ['Português', 9, 9, 9, 8, 5, 6, 8, 5],\n",
              " ['Geografia', 10, 10, 6, 7, 7, 7, 8, 7]]"
            ]
          },
          "metadata": {},
          "execution_count": 44
        }
      ]
    },
    {
      "cell_type": "code",
      "source": [
        "for nota in notas:\n",
        " x = list(range(1, 9))\n",
        " y = nota[1:]\n",
        " plt.plot(x, y, marker='o')\n",
        " plt.xlabel('Provas')\n",
        " plt.ylabel('Notas')\n",
        " plt.title(nota[0])\n",
        " plt.show()"
      ],
      "metadata": {
        "colab": {
          "base_uri": "https://localhost:8080/",
          "height": 851
        },
        "id": "NBGo1KgaXlGt",
        "outputId": "01fb1a27-eab2-45b6-b1f4-4daa2008f419"
      },
      "execution_count": null,
      "outputs": [
        {
          "output_type": "display_data",
          "data": {
            "text/plain": [
              "<Figure size 432x288 with 1 Axes>"
            ],
            "image/png": "[encoded data removed]"
          },
          "metadata": {
            "needs_background": "light"
          }
        },
        {
          "output_type": "display_data",
          "data": {
            "text/plain": [
              "<Figure size 432x288 with 1 Axes>"
            ],
            "image/png": "[encoded data removed]"
          },
          "metadata": {
            "needs_background": "light"
          }
        },
        {
          "output_type": "display_data",
          "data": {
            "text/plain": [
              "<Figure size 432x288 with 1 Axes>"
            ],
            "image/png": "[encoded data removed]"
          },
          "metadata": {
            "needs_background": "light"
          }
        }
      ]
    },
    {
      "cell_type": "code",
      "source": [],
      "metadata": {
        "id": "fN2-M1uhX0Jl"
      },
      "execution_count": null,
      "outputs": []
    }
  ],
  "metadata": {
    "colab": {
      "provenance": [],
      "collapsed_sections": [
        "ZBhn1rQZGrJ0"
      ],
      "authorship_tag": "ABX9TyMDTrpCnOC7jfcBiNUhK0g1",
      "include_colab_link": true
    },
    "kernelspec": {
      "display_name": "Python 3",
      "name": "python3"
    },
    "language_info": {
      "name": "python"
    }
  },
  "nbformat": 4,
  "nbformat_minor": 0
}